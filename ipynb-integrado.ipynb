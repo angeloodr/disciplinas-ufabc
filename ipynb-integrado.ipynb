{
 "cells": [
  {
   "cell_type": "markdown",
   "id": "343744a0",
   "metadata": {},
   "source": [
    "# Sistema de Detecção de Equivalência de Disciplinas\n",
    "\n",
    "## 1. Imports e Configuração"
   ]
  },
  {
   "cell_type": "code",
   "execution_count": null,
   "id": "3772ff9d",
   "metadata": {},
   "outputs": [],
   "source": [
    "# Realiza imports necessários\n",
    "pip install -r requirements.txt"
   ]
  },
  {
   "cell_type": "markdown",
   "id": "9c85da40",
   "metadata": {},
   "source": [
    "## 2. Carregamento de Dados"
   ]
  },
  {
   "cell_type": "code",
   "execution_count": null,
   "id": "99f4b89e",
   "metadata": {},
   "outputs": [],
   "source": [
    "# Carrega dados de treino\n",
    "df_catalogo = pd.read_csv('catalogo_disciplinas.csv');\n",
    "# Carrega dados rotulados\n",
    "labeled_data = pd.read_csv('dados_rotulados.csv')"
   ]
  },
  {
   "cell_type": "markdown",
   "id": "e8e7a644",
   "metadata": {},
   "source": [
    "## 3. Preparação de Dados"
   ]
  },
  {
   "cell_type": "code",
   "execution_count": null,
   "id": "3cd4b19a",
   "metadata": {},
   "outputs": [],
   "source": [
    "# Extrai dados de TPEI\n",
    "def parse_tpei(tpei_str):\n",
    "    # Converts \"2-0-0-2\" to dict with numeric values\n",
    "    values = tpei_str.split('-')\n",
    "    return {'T': int(values[0]), 'P': int(values[1]), \n",
    "            'E': int(values[2]), 'I': int(values[3])}\n",
    "\n",
    "catalog_df['TPEI_parsed'] = catalog_df['TPEI'].apply(parse_tpei)\n",
    "\n",
    "# Limpa e normaliza os dados\n",
    "# Cria variável com int TPEI\n",
    "# Cria grafo relacional de pré-requisitos\n",
    "# Prepare data structures for filtering pipeline\n",
    "# Create validation splits for model training"
   ]
  },
  {
   "cell_type": "markdown",
   "id": "8cdd40eb",
   "metadata": {},
   "source": [
    "## 4. Filtro TPEI"
   ]
  },
  {
   "cell_type": "code",
   "execution_count": null,
   "id": "eab5d5a2",
   "metadata": {},
   "outputs": [],
   "source": [
    "# Define TPEI threshold value\n",
    "# Filter discipline pairs based on TPEI criteria\n",
    "# Exclude pairs where TPEI value is below threshold\n",
    "# Log excluded pairs for tracking\n",
    "# Return filtered candidate pairs"
   ]
  },
  {
   "cell_type": "markdown",
   "id": "b6e34318",
   "metadata": {},
   "source": [
    "## 5. Filtro de Pré-requisitos"
   ]
  },
  {
   "cell_type": "code",
   "execution_count": null,
   "id": "7223a341",
   "metadata": {},
   "outputs": [],
   "source": [
    "# Create DiGraph from prerequisite relationships\n",
    "# Generate node2vec embeddings for disciplines\n",
    "# Calculate cosine distance between discipline embeddings\n",
    "# Apply prerequisite similarity threshold\n",
    "# Filter pairs based on prerequisite similarity"
   ]
  },
  {
   "cell_type": "markdown",
   "id": "dc787716",
   "metadata": {},
   "source": [
    "## 6. Cálculo de Score TPEI + Pré-requisitos"
   ]
  },
  {
   "cell_type": "code",
   "execution_count": null,
   "id": "a218d884",
   "metadata": {},
   "outputs": [],
   "source": [
    "# Prepara matriz de caracteristicas\n",
    "def prepare_combined_features(discipline_pairs, tpei_diff, prereq_similarities):\n",
    "    features = []\n",
    "    for pair in discipline_pairs:\n",
    "        prereq_sim = prereq_similarities.get(pairs, 0.0)\n",
    "        features.append([tpei_diff, prereq_sim])\n",
    "    return np.array(features)\n",
    "\n",
    "\n",
    "# Treina CatBoost usando labeled_data\n",
    "# Código da Larissa\n",
    "\n",
    "\n",
    "\n",
    "# Otimiza limiar\n",
    "# from sklearn.metrics import precision_recall_curve\n",
    "y_pred_proba = model_catboost.predict_proba(X_val)[:,1]\n",
    "\n",
    "precision, recall, thresholds = precision_recall_curve(y_val, y_pred_proba)\n",
    "f1_scores = 2 * (precision * recall) / (precision + recall + 1e-8)\n",
    "optimal_threshold = thresholds[np.argmax(f1_scores)]\n",
    "\n",
    "# Calcula score de cada par\n",
    "all_features = prepare_combined_features(candidate_pairs, tpei_diff, prereq_similarities)\n",
    "combined_scores = model_catboost.predict_proba(all_features)[:. 1]\n",
    "\n",
    "# Aplica filtro em cada par\n",
    "filtered_pairs = [\n",
    "    pair for pair, score in zip(candidate_pairs, combined_scores)\n",
    "    if score >= optimal_threshold\n",
    "]"
   ]
  },
  {
   "cell_type": "markdown",
   "id": "0eb5bf8a",
   "metadata": {},
   "source": [
    "## 7. Filtro de Ementa"
   ]
  },
  {
   "cell_type": "code",
   "execution_count": null,
   "id": "d3744b76",
   "metadata": {},
   "outputs": [],
   "source": [
    "# Load BERTimbau pre-trained model\n",
    "# Generate embeddings for ementa texts\n",
    "# Apply node2vec to ementa embeddings\n",
    "# Calculate cosine distance between ementa embeddings\n",
    "# Filter based on semantic similarity threshold"
   ]
  },
  {
   "cell_type": "markdown",
   "id": "df0f7907",
   "metadata": {},
   "source": [
    "## 8. Cálculo de Score Final"
   ]
  },
  {
   "cell_type": "code",
   "execution_count": null,
   "id": "1ce4580e",
   "metadata": {},
   "outputs": [],
   "source": [
    "# Prepara caracterist\n",
    "# Train SVM with RBF kernel on 'valid pair' data\n",
    "# Combine all features (TPEI, prerequisites, ementa)\n",
    "# Calculate overall equivalence score\n",
    "# Apply final threshold for equivalence classification\n",
    "# Generate list of equivalent discipline pairs"
   ]
  },
  {
   "cell_type": "markdown",
   "id": "efff0ccc",
   "metadata": {},
   "source": [
    "## 9. Explicação dos Resultados"
   ]
  },
  {
   "cell_type": "code",
   "execution_count": null,
   "id": "5f56d1f8",
   "metadata": {},
   "outputs": [],
   "source": [
    "# Initialize SHAP explainer for SVM model\n",
    "# Calculate SHAP values for each prediction\n",
    "# Generate feature importance rankings\n",
    "# Create individual prediction explanations\n",
    "# Prepare text explanations for results"
   ]
  },
  {
   "cell_type": "markdown",
   "id": "79476c28",
   "metadata": {},
   "source": [
    "## 10. Visualizações dos Resultados\n",
    "\n",
    "### 10.1 Visualização do Grafo de Pré-requisitos"
   ]
  },
  {
   "cell_type": "code",
   "execution_count": null,
   "id": "76f7dcec",
   "metadata": {},
   "outputs": [],
   "source": [
    "# Create DiGraph visualization showing prerequisite relationships\n",
    "# Color nodes based on equivalence status\n",
    "# Highlight connected discipline pairs\n",
    "# Add node labels and edge weights\n",
    "# Save graph visualization"
   ]
  },
  {
   "cell_type": "markdown",
   "id": "8e80d967",
   "metadata": {},
   "source": [
    "### 10.2 SHAP Summary Plots"
   ]
  },
  {
   "cell_type": "code",
   "execution_count": null,
   "id": "fd8245ec",
   "metadata": {},
   "outputs": [],
   "source": [
    "# Generate SHAP summary plot for feature importance\n",
    "# Create dependence plots for key features\n",
    "# Visualize force plots for individual predictions\n",
    "# Export plots for presentation"
   ]
  },
  {
   "cell_type": "markdown",
   "id": "00bcaaf6",
   "metadata": {},
   "source": [
    "### 10.3 Matrizes de Confusão"
   ]
  },
  {
   "cell_type": "code",
   "execution_count": null,
   "id": "6dbad8f6",
   "metadata": {},
   "outputs": [],
   "source": [
    "# Calculate confusion matrix for model performance\n",
    "# Create heatmap visualization of confusion matrix\n",
    "# Add precision, recall, and F1 scores\n",
    "# Generate performance metrics report"
   ]
  },
  {
   "cell_type": "markdown",
   "id": "7868a7f5",
   "metadata": {},
   "source": [
    "## 11. Exportação de Resultados"
   ]
  },
  {
   "cell_type": "code",
   "execution_count": null,
   "id": "59f65c54",
   "metadata": {},
   "outputs": [],
   "source": [
    "# Save filtered results to TSV file\n",
    "# Export model performance metrics\n",
    "# Save visualizations in specified formats\n",
    "# Generate final summary report"
   ]
  }
 ],
 "metadata": {
  "language_info": {
   "name": "python"
  }
 },
 "nbformat": 4,
 "nbformat_minor": 5
}
