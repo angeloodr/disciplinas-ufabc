{
 "cells": [
  {
   "cell_type": "markdown",
   "metadata": {},
   "source": [
    "# Análise de similaridade entre as emetas das disciplinas da UFABC\n",
    "\n",
    "Queremos determinar se existe disciplinas com mais de 75% de similaridade entre as ementas. Para isso vamos usar uma LLM para determinar essa relação.\n",
    "\n",
    "A ideia é utilizar um aprendizado não supervisionado. Talvez cossine similarity\n",
    "\n",
    "### Ver referenicias:\n",
    "\n",
    "https://tail-ufpb.medium.com/word-embeddings-representa%C3%A7%C3%A3o-vetorial-de-textos-para-machine-learning-74a227e18478\n",
    "\n",
    "https://spencerporter2.medium.com/understanding-cosine-similarity-and-word-embeddings-dbf19362a3c"
   ]
  },
  {
   "cell_type": "code",
   "execution_count": 5,
   "metadata": {},
   "outputs": [],
   "source": [
    "from sklearn.feature_extraction.text import CountVectorizer\n",
    "\n"
   ]
  },
  {
   "cell_type": "code",
   "execution_count": 15,
   "metadata": {},
   "outputs": [
    {
     "data": {
      "text/plain": [
       "<Compressed Sparse Row sparse matrix of dtype 'int64'\n",
       "\twith 81 stored elements and shape (2, 74)>"
      ]
     },
     "execution_count": 15,
     "metadata": {},
     "output_type": "execute_result"
    }
   ],
   "source": [
    "doc_1 = \"Noções de amostragem e técnicas de amostragem probabilísticas e não probabilísticas aplicadas à tomada de decisões; principais distribuições por amostragem e o teorema do limite central voltado à estimação; construção de intervalos de confiança direcionados à tomada de decisão e à área de qualidade; determinação de tamanhos de amostras para dar suporte à tomada de decisão; teoria das decisões com apoio de testes de hipóteses paramétricos e não paramétricos; correlação entre variáveis: estudo das relações entre variáveis com ênfase na tomada de decisões; análise de regressão: introdução à modelagem voltada a aplicações na Engenharia de Gestão, envolvendo modelos lineares simples e lineares por transformação das variáveis.\"\n",
    "doc_2 = \"Análise descritiva de dados. Probabilidade e modelos de probabilidade. Delineamentos de pesquisa: medidas de força de associação entre variáveis, correlação e regressão. Tabelas de contingência. Análise inferencial. Teste t. ANOVA.\"\n",
    "\n",
    "data = [doc_1, doc_2]\n",
    "\n",
    "count_vectorizer = CountVectorizer()\n",
    "vector_matrix = count_vectorizer.fit_transform(data)\n",
    "vector_matrix"
   ]
  },
  {
   "cell_type": "code",
   "execution_count": 16,
   "metadata": {},
   "outputs": [
    {
     "data": {
      "text/plain": [
       "array(['amostragem', 'amostras', 'anova', 'análise', 'aplicadas',\n",
       "       'aplicações', 'apoio', 'associação', 'central', 'cnicas', 'com',\n",
       "       'confiança', 'construção', 'contingência', 'correlação', 'dados',\n",
       "       'dar', 'das', 'de', 'decisão', 'decisões', 'delineamentos',\n",
       "       'descritiva', 'determinação', 'direcionados', 'distribuições',\n",
       "       'do', 'engenharia', 'entre', 'envolvendo', 'estimação', 'estudo',\n",
       "       'força', 'gestão', 'hipóteses', 'inferencial', 'intervalos',\n",
       "       'introdução', 'limite', 'lineares', 'medidas', 'modelagem',\n",
       "       'modelos', 'na', 'noções', 'não', 'para', 'parame', 'pesquisa',\n",
       "       'por', 'principais', 'probabili', 'probabilidade', 'qualidade',\n",
       "       'regressão', 'relações', 'simples', 'sticas', 'suporte', 'tabelas',\n",
       "       'tamanhos', 'te', 'teorema', 'teoria', 'teste', 'testes', 'tomada',\n",
       "       'transformação', 'tricos', 'variáveis', 'voltada', 'voltado',\n",
       "       'área', 'ênfase'], dtype=object)"
      ]
     },
     "execution_count": 16,
     "metadata": {},
     "output_type": "execute_result"
    }
   ],
   "source": [
    "tokens = count_vectorizer.get_feature_names_out()\n",
    "tokens"
   ]
  },
  {
   "cell_type": "code",
   "execution_count": 17,
   "metadata": {},
   "outputs": [
    {
     "data": {
      "text/plain": [
       "array([[ 3,  1,  0,  1,  1,  1,  1,  0,  1,  1,  2,  1,  1,  0,  1,  0,\n",
       "         1,  3, 15,  2,  3,  0,  0,  1,  1,  1,  1,  1,  2,  1,  1,  1,\n",
       "         0,  1,  1,  0,  1,  1,  1,  2,  0,  1,  1,  2,  1,  2,  1,  2,\n",
       "         0,  2,  1,  2,  0,  1,  1,  1,  1,  2,  1,  0,  1,  1,  1,  1,\n",
       "         0,  1,  4,  1,  2,  3,  1,  1,  1,  1],\n",
       "       [ 0,  0,  1,  2,  0,  0,  0,  1,  0,  0,  0,  0,  0,  1,  1,  1,\n",
       "         0,  0,  6,  0,  0,  1,  1,  0,  0,  0,  0,  0,  1,  0,  0,  0,\n",
       "         1,  0,  0,  1,  0,  0,  0,  0,  1,  0,  1,  0,  0,  0,  0,  0,\n",
       "         1,  0,  0,  0,  2,  0,  1,  0,  0,  0,  0,  1,  0,  0,  0,  0,\n",
       "         1,  0,  0,  0,  0,  1,  0,  0,  0,  0]])"
      ]
     },
     "execution_count": 17,
     "metadata": {},
     "output_type": "execute_result"
    }
   ],
   "source": [
    "vector_matrix.toarray()"
   ]
  },
  {
   "cell_type": "code",
   "execution_count": 18,
   "metadata": {},
   "outputs": [
    {
     "data": {
      "text/html": [
       "<div>\n",
       "<style scoped>\n",
       "    .dataframe tbody tr th:only-of-type {\n",
       "        vertical-align: middle;\n",
       "    }\n",
       "\n",
       "    .dataframe tbody tr th {\n",
       "        vertical-align: top;\n",
       "    }\n",
       "\n",
       "    .dataframe thead th {\n",
       "        text-align: right;\n",
       "    }\n",
       "</style>\n",
       "<table border=\"1\" class=\"dataframe\">\n",
       "  <thead>\n",
       "    <tr style=\"text-align: right;\">\n",
       "      <th></th>\n",
       "      <th>amostragem</th>\n",
       "      <th>amostras</th>\n",
       "      <th>anova</th>\n",
       "      <th>análise</th>\n",
       "      <th>aplicadas</th>\n",
       "      <th>aplicações</th>\n",
       "      <th>apoio</th>\n",
       "      <th>associação</th>\n",
       "      <th>central</th>\n",
       "      <th>cnicas</th>\n",
       "      <th>...</th>\n",
       "      <th>teste</th>\n",
       "      <th>testes</th>\n",
       "      <th>tomada</th>\n",
       "      <th>transformação</th>\n",
       "      <th>tricos</th>\n",
       "      <th>variáveis</th>\n",
       "      <th>voltada</th>\n",
       "      <th>voltado</th>\n",
       "      <th>área</th>\n",
       "      <th>ênfase</th>\n",
       "    </tr>\n",
       "  </thead>\n",
       "  <tbody>\n",
       "    <tr>\n",
       "      <th>doc_1</th>\n",
       "      <td>3</td>\n",
       "      <td>1</td>\n",
       "      <td>0</td>\n",
       "      <td>1</td>\n",
       "      <td>1</td>\n",
       "      <td>1</td>\n",
       "      <td>1</td>\n",
       "      <td>0</td>\n",
       "      <td>1</td>\n",
       "      <td>1</td>\n",
       "      <td>...</td>\n",
       "      <td>0</td>\n",
       "      <td>1</td>\n",
       "      <td>4</td>\n",
       "      <td>1</td>\n",
       "      <td>2</td>\n",
       "      <td>3</td>\n",
       "      <td>1</td>\n",
       "      <td>1</td>\n",
       "      <td>1</td>\n",
       "      <td>1</td>\n",
       "    </tr>\n",
       "    <tr>\n",
       "      <th>doc_2</th>\n",
       "      <td>0</td>\n",
       "      <td>0</td>\n",
       "      <td>1</td>\n",
       "      <td>2</td>\n",
       "      <td>0</td>\n",
       "      <td>0</td>\n",
       "      <td>0</td>\n",
       "      <td>1</td>\n",
       "      <td>0</td>\n",
       "      <td>0</td>\n",
       "      <td>...</td>\n",
       "      <td>1</td>\n",
       "      <td>0</td>\n",
       "      <td>0</td>\n",
       "      <td>0</td>\n",
       "      <td>0</td>\n",
       "      <td>1</td>\n",
       "      <td>0</td>\n",
       "      <td>0</td>\n",
       "      <td>0</td>\n",
       "      <td>0</td>\n",
       "    </tr>\n",
       "  </tbody>\n",
       "</table>\n",
       "<p>2 rows × 74 columns</p>\n",
       "</div>"
      ],
      "text/plain": [
       "       amostragem  amostras  anova  análise  aplicadas  aplicações  apoio  \\\n",
       "doc_1           3         1      0        1          1           1      1   \n",
       "doc_2           0         0      1        2          0           0      0   \n",
       "\n",
       "       associação  central  cnicas  ...  teste  testes  tomada  transformação  \\\n",
       "doc_1           0        1       1  ...      0       1       4              1   \n",
       "doc_2           1        0       0  ...      1       0       0              0   \n",
       "\n",
       "       tricos  variáveis  voltada  voltado  área  ênfase  \n",
       "doc_1       2          3        1        1     1       1  \n",
       "doc_2       0          1        0        0     0       0  \n",
       "\n",
       "[2 rows x 74 columns]"
      ]
     },
     "execution_count": 18,
     "metadata": {},
     "output_type": "execute_result"
    }
   ],
   "source": [
    "import pandas as pd\n",
    "\n",
    "def create_dataframe(matrix, tokens):\n",
    "\n",
    "    doc_names = [f'doc_{i+1}' for i, _ in enumerate(matrix)]\n",
    "    df = pd.DataFrame(data=matrix, index=doc_names, columns=tokens)\n",
    "    return(df)\n",
    "\n",
    "create_dataframe(vector_matrix.toarray(),tokens)"
   ]
  },
  {
   "cell_type": "code",
   "execution_count": 19,
   "metadata": {},
   "outputs": [
    {
     "data": {
      "text/html": [
       "<div>\n",
       "<style scoped>\n",
       "    .dataframe tbody tr th:only-of-type {\n",
       "        vertical-align: middle;\n",
       "    }\n",
       "\n",
       "    .dataframe tbody tr th {\n",
       "        vertical-align: top;\n",
       "    }\n",
       "\n",
       "    .dataframe thead th {\n",
       "        text-align: right;\n",
       "    }\n",
       "</style>\n",
       "<table border=\"1\" class=\"dataframe\">\n",
       "  <thead>\n",
       "    <tr style=\"text-align: right;\">\n",
       "      <th></th>\n",
       "      <th>doc_1</th>\n",
       "      <th>doc_2</th>\n",
       "    </tr>\n",
       "  </thead>\n",
       "  <tbody>\n",
       "    <tr>\n",
       "      <th>doc_1</th>\n",
       "      <td>1.000000</td>\n",
       "      <td>0.670176</td>\n",
       "    </tr>\n",
       "    <tr>\n",
       "      <th>doc_2</th>\n",
       "      <td>0.670176</td>\n",
       "      <td>1.000000</td>\n",
       "    </tr>\n",
       "  </tbody>\n",
       "</table>\n",
       "</div>"
      ],
      "text/plain": [
       "          doc_1     doc_2\n",
       "doc_1  1.000000  0.670176\n",
       "doc_2  0.670176  1.000000"
      ]
     },
     "execution_count": 19,
     "metadata": {},
     "output_type": "execute_result"
    }
   ],
   "source": [
    "from sklearn.metrics.pairwise import cosine_similarity\n",
    "\n",
    "cosine_similarity_matrix = cosine_similarity(vector_matrix)\n",
    "create_dataframe(cosine_similarity_matrix,['doc_1','doc_2'])"
   ]
  }
 ],
 "metadata": {
  "kernelspec": {
   "display_name": ".ufabc_database",
   "language": "python",
   "name": "python3"
  },
  "language_info": {
   "codemirror_mode": {
    "name": "ipython",
    "version": 3
   },
   "file_extension": ".py",
   "mimetype": "text/x-python",
   "name": "python",
   "nbconvert_exporter": "python",
   "pygments_lexer": "ipython3",
   "version": "3.12.8"
  }
 },
 "nbformat": 4,
 "nbformat_minor": 2
}
